{
 "cells": [
  {
   "cell_type": "markdown",
   "metadata": {},
   "source": [
    "## [Basic data structure and manipulation](Basic_Usage.ipynb)\n",
    "\n",
    "\n",
    "## [Geometry computation and object generation](Geometries_showcase.ipynb)\n",
    "\n",
    "\n",
    "## [Visualization](Visualization.ipynb)\n",
    "\n",
    "\n",
    "## [Quasistatic Models](Quasistatic_models.ipynb)\n",
    "\n",
    "\n",
    "## [Cell division](Cell_Division.ipynb)\n",
    "\n",
    "## [Complex behavior - apoptosis](Apoptosis.ipynb)\n"
   ]
  }
 ],
 "metadata": {
  "kernelspec": {
   "display_name": "Python 3",
   "language": "python",
   "name": "python3"
  },
  "language_info": {
   "codemirror_mode": {
    "name": "ipython",
    "version": 3
   },
   "file_extension": ".py",
   "mimetype": "text/x-python",
   "name": "python",
   "nbconvert_exporter": "python",
   "pygments_lexer": "ipython3",
   "version": "3.7.1"
  }
 },
 "nbformat": 4,
 "nbformat_minor": 2
}
